{
 "cells": [
  {
   "cell_type": "code",
   "execution_count": 3,
   "id": "19874dc0-6152-46cc-9c26-e27a78060b6a",
   "metadata": {},
   "outputs": [
    {
     "name": "stdout",
     "output_type": "stream",
     "text": [
      "vektor default python\n",
      "\n",
      " \n",
      " vektor via numpy \n",
      "\n",
      "[ 1  2  3  4  5  6  7  8  9 10 11 12 13 14 15 16 17 18 19]\n",
      "[ 1  3  5  7  9 11 13 15 17 19]\n",
      "1\n",
      "(19,)\n",
      "[[ 1  2  3  4  5]\n",
      " [ 6  7  8  9 10]\n",
      " [11 12 13 14 15]\n",
      " [16 17 18 19 20]]\n"
     ]
    }
   ],
   "source": [
    "# vektor python numpy with range value\n",
    "import numpy as np\n",
    "print(\"vektor default python\\n\")\n",
    "a = np.arange(1,20,1)\n",
    "b = np.arange(1,20,2)\n",
    "import numpy as np\n",
    "print (\" \\n vektor via numpy \\n\")\n",
    "# vektor via numpy\n",
    "c = np.array ([1,2,3,4,5])\n",
    "d = np.array ([1.5, 2.5, 5, 6, 7])\n",
    "print(a)\n",
    "print(b)\n",
    "print(a.ndim)\n",
    "print(a.shape)\n"
   ]
  },
  {
   "cell_type": "code",
   "execution_count": 13,
   "id": "35fcc152-107c-4bf7-8b3d-029bf4db7d06",
   "metadata": {},
   "outputs": [
    {
     "name": "stdout",
     "output_type": "stream",
     "text": [
      "[[ 1  2  3  4  5]\n",
      " [ 6  7  8  9 10]\n",
      " [11 12 13 14 15]\n",
      " [16 17 18 19 20]]\n"
     ]
    }
   ],
   "source": [
    "# mengubah dari 1D menjadi matrik 2D\n",
    "a = np.arange(1,21,1)\n",
    "c = a.reshape((4,5)) #Membentuk 4 baris dan 5 kolom\n",
    "print(c)"
   ]
  },
  {
   "cell_type": "code",
   "execution_count": 11,
   "id": "2116b520-af20-44ed-9ada-78c596123bd2",
   "metadata": {},
   "outputs": [
    {
     "name": "stdout",
     "output_type": "stream",
     "text": [
      "['apple', 'banana', 'cherry']\n"
     ]
    }
   ],
   "source": [
    "#LIST\n",
    "list1 = [\"apple\", \"banana\", \"cherry\"]\n",
    "list2 = [1, 5, 7, 9, 3]\n",
    "list3 = [True, False, False]\n",
    "list4 = [\"abc\", 34, True, 40, \"male\"]\n",
    "print(list1); "
   ]
  },
  {
   "cell_type": "code",
   "execution_count": 14,
   "id": "2394019f-7b21-4340-95fd-93a0c618d095",
   "metadata": {},
   "outputs": [
    {
     "name": "stdout",
     "output_type": "stream",
     "text": [
      "   a  b  c\n",
      "0  1  2  3\n",
      "1  4  5  6\n",
      "2  7  8  9\n"
     ]
    }
   ],
   "source": [
    "#data frame\n",
    "import pandas as pd\n",
    "df = pd.DataFrame(np.array([[1, 2, 3], [4, 5, 6], [7, 8, 9]]),\n",
    " columns=['a', 'b', 'c'])\n",
    "print(df)"
   ]
  },
  {
   "cell_type": "code",
   "execution_count": 19,
   "id": "73a75135-5045-4cce-872e-186307242520",
   "metadata": {},
   "outputs": [
    {
     "name": "stdout",
     "output_type": "stream",
     "text": [
      "   Nama Pasien  Umur Gender Diagnosa Sakit\n",
      "0         Anto    24      L          Tidak\n",
      "1         Budi    35      L             Ya\n",
      "2          Adi    55      L             Ya\n",
      "3       Delima    32      P             Ya\n",
      "4         Dodi    21      L          Tidak\n",
      "5      Tukiyem    19      P          Tidak\n",
      "6         Rama    23      L          Tidak\n",
      "7        Santi    35      P          Tidak\n",
      "8         Mery    44      P             Ya\n",
      "9        Yanti    27      P          Tidak\n",
      "10       Parto    43      L             Ya\n",
      "11         Dea    24      P          Tidak\n"
     ]
    }
   ],
   "source": [
    "# Membaca data dari file dengan format CSV\n",
    "import pandas as pd\n",
    "data = pd.read_csv(\"/Users/macbookpro/Documents/KULIAH/PENGENALAN POLA/Praktikum 2/Source/Data.csv\", sep=\";\")\n",
    "print(data)"
   ]
  },
  {
   "cell_type": "code",
   "execution_count": 21,
   "id": "2f6ec5c5-3e77-4805-bc95-059e4f5338eb",
   "metadata": {},
   "outputs": [
    {
     "name": "stdout",
     "output_type": "stream",
     "text": [
      "\n",
      " read text data with tab delimiter\n",
      "NamaPasien\tUmur\tGender\tDiagnosa Sakit\n",
      "Anto\t\t24\tL\tTidak\n",
      "Budi\t\t35\tL\tYa\n",
      "Adi\t\t55\tL\tYa\n",
      "Delima\t\t32\tP\tYa\n",
      "Dodi\t\t21\tL\tTidak\n",
      "Tukiyem\t\t19\tP\tTidak\n",
      "Rama\t\t23\tL\tTidak\n",
      "Santi\t\t35\tP\tTidak\n",
      "Mery\t\t44\tP\tYa\n",
      "Yanti\t\t27\tP\tTidak\n",
      "Parto\t\t43\tL\tYa\n",
      "Dea\t\t24\tP\tTidak\n",
      "\n"
     ]
    }
   ],
   "source": [
    "# Membaca data dari file dengan format text (delimeter)\n",
    "print(\"\\n read text data with tab delimiter\")\n",
    "with open ('/Users/macbookpro/Documents/KULIAH/PENGENALAN POLA/Praktikum 2/Source/Data.txt') as data:\n",
    "    print(data.read()) "
   ]
  },
  {
   "cell_type": "code",
   "execution_count": 22,
   "id": "6fdd981b-e09c-440b-8ba6-c92c74d60dbd",
   "metadata": {},
   "outputs": [
    {
     "name": "stdout",
     "output_type": "stream",
     "text": [
      "         time     40    50     60    70    80    90   100   110   120  ...  \\\n",
      "0     YAL001C -0.070 -0.23 -0.100  0.03 -0.04 -0.12 -0.28 -0.44 -0.09  ...   \n",
      "1     YAL014C  0.215  0.09  0.025 -0.04 -0.04 -0.02 -0.51 -0.08  0.00  ...   \n",
      "2     YAL016W  0.150  0.15  0.220  0.29 -0.10  0.15 -0.73  0.19 -0.15  ...   \n",
      "3     YAL020C -0.350 -0.28 -0.215 -0.15  0.16 -0.12  0.26  0.00  0.13  ...   \n",
      "4     YAL022C -0.415 -0.59 -0.580 -0.57 -0.09 -0.34  0.49  0.32  1.15  ...   \n",
      "...       ...    ...   ...    ...   ...   ...   ...   ...   ...   ...  ...   \n",
      "4376  YPR198W -0.060  0.08  0.210  0.34  0.65 -0.26  0.14 -0.33  0.53  ...   \n",
      "4377  YPR199C  0.155  0.19  0.235  0.28 -0.26  0.21 -0.40  0.34 -0.80  ...   \n",
      "4378  YPR201W -0.255 -0.36 -0.300 -0.24  1.30 -0.07  0.29 -0.20  0.25  ...   \n",
      "4379  YPR203W  0.570  0.12 -0.070 -0.26 -0.44 -0.21 -1.08  0.39 -0.17  ...   \n",
      "4380  YPR204W  0.405  0.17 -0.045 -0.26 -0.60 -0.09 -0.85  0.17 -0.05  ...   \n",
      "\n",
      "       170   180   190   200   210   220   230   240   250    260  \n",
      "0     0.59  0.34 -0.28 -0.09 -0.44  0.31  0.03  0.57  0.00  0.010  \n",
      "1    -0.30 -0.38  0.07 -0.04  0.13 -0.06 -0.26 -0.10  0.27  0.235  \n",
      "2     0.12 -0.17  0.11 -0.15  0.03 -0.26 -0.34 -0.34  0.25  0.190  \n",
      "3     0.07  0.61 -0.20  0.49 -0.43  0.80 -0.47  1.01 -0.36 -0.405  \n",
      "4    -0.48 -0.40 -0.59  0.54 -0.09  1.03  0.08  0.57 -0.26 -0.310  \n",
      "...    ...   ...   ...   ...   ...   ...   ...   ...   ...    ...  \n",
      "4376  0.14 -0.64 -0.26  0.53 -0.17  0.59 -0.96  0.40 -0.23 -0.325  \n",
      "4377  0.34  0.15  0.30 -0.06  0.13 -0.44 -1.03  0.14  0.30  0.250  \n",
      "4378 -0.81  0.89  0.07  1.04 -0.32  0.80 -0.13  0.84 -0.39 -0.415  \n",
      "4379  0.12 -0.96 -0.31 -0.81 -0.34 -1.21 -1.36 -0.12  0.69  0.555  \n",
      "4380  0.17 -1.90 -0.21 -0.45 -0.31 -0.39 -0.22 -0.08  0.65  0.520  \n",
      "\n",
      "[4381 rows x 24 columns]\n"
     ]
    }
   ],
   "source": [
    "# Membaca data dari URL\n",
    "import pandas as pd\n",
    "f = pd.read_csv('http://www.exploredata.net/ftp/Spellman.csv')\n",
    "print(f)"
   ]
  },
  {
   "cell_type": "code",
   "execution_count": 24,
   "id": "88950bfc-0716-4849-b869-fa302e900a87",
   "metadata": {},
   "outputs": [
    {
     "name": "stdout",
     "output_type": "stream",
     "text": [
      "[[1.000e+00 2.272e+03]\n",
      " [2.000e+00       nan]\n",
      " [3.000e+00 1.386e+03]\n",
      " [4.000e+00 1.365e+03]\n",
      " [5.000e+00 1.488e+03]\n",
      " [6.000e+00 1.337e+03]\n",
      " [7.000e+00 1.883e+03]\n",
      " [8.000e+00 2.283e+03]\n",
      " [9.000e+00 1.335e+03]\n",
      " [1.000e+01 1.025e+03]]\n",
      "(743, 2)\n"
     ]
    },
    {
     "data": {
      "image/png": "[encoded data removed]",
      "text/plain": [
       "<Figure size 640x480 with 1 Axes>"
      ]
     },
     "metadata": {},
     "output_type": "display_data"
    }
   ],
   "source": [
    "import numpy as sp\n",
    "traffic = sp.genfromtxt(\"/Users/macbookpro/Documents/KULIAH/PENGENALAN POLA/Praktikum 2/Source/web_traffic.tsv\",delimiter='\\t')\n",
    "print(traffic[:10])\n",
    "print(traffic.shape)\n",
    "x = traffic[:,0]\n",
    "y = traffic[:,1]\n",
    "x = x[~sp.isnan(y)]\n",
    "y = y[~sp.isnan(y)]\n",
    "import matplotlib.pyplot as plt\n",
    "plt.scatter(x,y)\n",
    "plt.title(\"Web traffic last month\")\n",
    "plt.xlabel(\"Time\")\n",
    "plt.ylabel(\"Hits/hour\")\n",
    "plt.xticks([w*7*24 for w in range(10)],['week %i' %w for w in\n",
    "range(10)])\n",
    "plt.autoscale(tight=True)\n",
    "plt.grid()"
   ]
  },
  {
   "cell_type": "code",
   "execution_count": null,
   "id": "5aca5c54-60e0-43d0-81db-720bdd76b587",
   "metadata": {},
   "outputs": [],
   "source": [
    "# Operasi image pada Python\n",
    "# Instalasi paket open cv\n",
    "#!pip install opencv-contrib-python\n",
    "# pilihan load image (contoh logo ipb)\n",
    "import matplotlib.pyplot as plt\n",
    "import cv2\n",
    "import numpy as np\n",
    "print(\"read images using opencv\")\n",
    "five = cv2.imread(\"/Users/macbookpro/Documents/KULIAH/PENGENALAN POLA/Praktikum 2/Source/ipb.png\")\n",
    "print(five.shape)\n",
    "print(five.size)\n",
    "plt.imshow(five)\n",
    "cv2.waitKey(0)\n",
    "\n",
    "\n",
    "# konversi image\n",
    "import cv2\n",
    "ipb =ncv2.imread(\"/Users/macbookpro/Documents/KULIAH/PENGENALAN POLA/Praktikum 2/Source/ipb.png\")\n",
    "ipb_gray =cv2.cvtColor(ipb,cv2.COLOR_BGR2GRAY)\n",
    "plt.imshow(ipb)\n",
    "plt.imshow(ipb_gray)\n",
    "# mengambil nilai matriksnya\n",
    "# acces pixel of images per postion\n",
    "pixels = five[100,100]\n",
    "print(pixels)"
   ]
  },
  {
   "cell_type": "code",
   "execution_count": null,
   "id": "4298a960-d397-4c57-a3c7-0db78b5b8cb1",
   "metadata": {},
   "outputs": [],
   "source": []
  }
 ],
 "metadata": {
  "kernelspec": {
   "display_name": "Python 3 (ipykernel)",
   "language": "python",
   "name": "python3"
  },
  "language_info": {
   "codemirror_mode": {
    "name": "ipython",
    "version": 3
   },
   "file_extension": ".py",
   "mimetype": "text/x-python",
   "name": "python",
   "nbconvert_exporter": "python",
   "pygments_lexer": "ipython3",
   "version": "3.12.5"
  }
 },
 "nbformat": 4,
 "nbformat_minor": 5
}
